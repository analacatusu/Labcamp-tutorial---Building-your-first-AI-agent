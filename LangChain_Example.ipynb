{
 "cells": [
  {
   "cell_type": "markdown",
   "metadata": {},
   "source": [
    "### LangChain Demo: Building a Simple Q&A Chatbot"
   ]
  },
  {
   "cell_type": "code",
   "execution_count": null,
   "metadata": {
    "vscode": {
     "languageId": "plaintext"
    }
   },
   "outputs": [],
   "source": [
    "# Install required libraries\n",
    "# Run this cell to install LangChain and OpenAI if not already installed\n",
    "!pip install langchain openai wikipedia"
   ]
  },
  {
   "cell_type": "code",
   "execution_count": null,
   "metadata": {
    "vscode": {
     "languageId": "plaintext"
    }
   },
   "outputs": [],
   "source": [
    "# Import necessary modules\n",
    "from langchain.llms import OpenAI\n",
    "from langchain.tools import WikipediaTool\n",
    "from langchain.agents import initialize_agent"
   ]
  },
  {
   "cell_type": "code",
   "execution_count": null,
   "metadata": {
    "vscode": {
     "languageId": "plaintext"
    }
   },
   "outputs": [],
   "source": [
    "# Step 1: Set up the OpenAI API key\n",
    "import os\n",
    "os.environ[\"OPENAI_API_KEY\"] = \"your_openai_api_key_here\"  # Replace with your OpenAI API key"
   ]
  },
  {
   "cell_type": "code",
   "execution_count": null,
   "metadata": {
    "vscode": {
     "languageId": "plaintext"
    }
   },
   "outputs": [],
   "source": [
    "# Step 2: Initialize the LLM (Large Language Model)\n",
    "llm = OpenAI(model=\"text-davinci-003\", temperature=0.7)  # You can adjust the temperature for creativity"
   ]
  },
  {
   "cell_type": "code",
   "execution_count": null,
   "metadata": {
    "vscode": {
     "languageId": "plaintext"
    }
   },
   "outputs": [],
   "source": [
    "# Step 3: Add a Tool (Wikipedia)\n",
    "wiki_tool = WikipediaTool()"
   ]
  },
  {
   "cell_type": "code",
   "execution_count": null,
   "metadata": {
    "vscode": {
     "languageId": "plaintext"
    }
   },
   "outputs": [],
   "source": [
    "# Step 4: Create an Agent\n",
    "agent = initialize_agent(tools=[wiki_tool], llm=llm, agent_type=\"zero-shot-react-description\", verbose=True)"
   ]
  },
  {
   "cell_type": "code",
   "execution_count": null,
   "metadata": {
    "vscode": {
     "languageId": "plaintext"
    }
   },
   "outputs": [],
   "source": [
    "# Step 5: Interact with the Agent\n",
    "def ask_agent(query):\n",
    "    print(\"User:\", query)\n",
    "    response = agent.run(query)\n",
    "    print(\"Agent:\", response)\n",
    "    return response"
   ]
  },
  {
   "cell_type": "code",
   "execution_count": null,
   "metadata": {
    "vscode": {
     "languageId": "plaintext"
    }
   },
   "outputs": [],
   "source": [
    "\n",
    "# Example Queries\n",
    "query1 = \"Who is Alan Turing?\"\n",
    "response1 = ask_agent(query1)\n",
    "\n",
    "query2 = \"What is the Turing Test?\"\n",
    "response2 = ask_agent(query2)\n",
    "\n",
    "query3 = \"Explain the significance of the Enigma machine.\"\n",
    "response3 = ask_agent(query3)\n",
    "\n",
    "# Note: Replace \"your_openai_api_key_here\" with your actual OpenAI API key to run this notebook.\n"
   ]
  }
 ],
 "metadata": {
  "language_info": {
   "name": "python"
  }
 },
 "nbformat": 4,
 "nbformat_minor": 2
}
